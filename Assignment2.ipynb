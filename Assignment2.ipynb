{
 "cells": [
  {
   "cell_type": "markdown",
   "metadata": {},
   "source": [
    "Import packages"
   ]
  },
  {
   "cell_type": "code",
   "execution_count": 38,
   "metadata": {},
   "outputs": [],
   "source": [
    "import pandas as pd\n",
    "from cassandra.cluster import Cluster\n"
   ]
  },
  {
   "cell_type": "markdown",
   "metadata": {},
   "source": [
    "Connect to the cassandra database"
   ]
  },
  {
   "cell_type": "code",
   "execution_count": 39,
   "metadata": {},
   "outputs": [],
   "source": [
    "clstr = Cluster()\n",
    "session = clstr.connect()"
   ]
  },
  {
   "cell_type": "code",
   "execution_count": 40,
   "metadata": {},
   "outputs": [
    {
     "data": {
      "text/plain": [
       "<cassandra.cluster.ResultSet at 0x7fdce04b3690>"
      ]
     },
     "execution_count": 40,
     "metadata": {},
     "output_type": "execute_result"
    }
   ],
   "source": [
    "session.execute(\"DROP KEYSPACE IF EXISTS m14\")"
   ]
  },
  {
   "cell_type": "markdown",
   "metadata": {},
   "source": [
    "Checking the existing keyspaces"
   ]
  },
  {
   "cell_type": "code",
   "execution_count": 41,
   "metadata": {},
   "outputs": [
    {
     "name": "stdout",
     "output_type": "stream",
     "text": [
      "system\n",
      "system_auth\n",
      "system_distributed\n",
      "system_schema\n",
      "system_traces\n",
      "system_views\n",
      "system_virtual_schema\n",
      "w04\n"
     ]
    }
   ],
   "source": [
    "rows = session.execute(\"desc keyspaces\")\n",
    "for row in rows:\n",
    "    print(f\"{row[0]}\")"
   ]
  },
  {
   "cell_type": "markdown",
   "metadata": {},
   "source": [
    "Create a keyspace called m14"
   ]
  },
  {
   "cell_type": "code",
   "execution_count": 42,
   "metadata": {},
   "outputs": [
    {
     "data": {
      "text/plain": [
       "<cassandra.cluster.ResultSet at 0x7fdce9436490>"
      ]
     },
     "execution_count": 42,
     "metadata": {},
     "output_type": "execute_result"
    }
   ],
   "source": [
    "session.execute(\"CREATE KEYSPACE IF NOT EXISTS m14 WITH REPLICATION = {'class':'SimpleStrategy', 'replication_factor':2}\")"
   ]
  },
  {
   "cell_type": "markdown",
   "metadata": {},
   "source": [
    "Create a table in this keyspace"
   ]
  },
  {
   "cell_type": "code",
   "execution_count": 43,
   "metadata": {},
   "outputs": [
    {
     "data": {
      "text/plain": [
       "<cassandra.cluster.ResultSet at 0x7fdce834f450>"
      ]
     },
     "execution_count": 43,
     "metadata": {},
     "output_type": "execute_result"
    }
   ],
   "source": [
    "\n",
    "session.execute(\"\"\"\n",
    "CREATE TABLE IF NOT EXISTS m14.datawarehouse ( \n",
    "    SKU INT, \n",
    "    name TEXT, \n",
    "    description TEXT, \n",
    "    warehouse_num INT, \n",
    "    PRIMARY KEY(SKU)   \n",
    ");\n",
    "\"\"\")"
   ]
  },
  {
   "cell_type": "markdown",
   "metadata": {},
   "source": [
    "Load Data"
   ]
  },
  {
   "cell_type": "code",
   "execution_count": 44,
   "metadata": {},
   "outputs": [
    {
     "data": {
      "text/html": [
       "<div>\n",
       "<style scoped>\n",
       "    .dataframe tbody tr th:only-of-type {\n",
       "        vertical-align: middle;\n",
       "    }\n",
       "\n",
       "    .dataframe tbody tr th {\n",
       "        vertical-align: top;\n",
       "    }\n",
       "\n",
       "    .dataframe thead th {\n",
       "        text-align: right;\n",
       "    }\n",
       "</style>\n",
       "<table border=\"1\" class=\"dataframe\">\n",
       "  <thead>\n",
       "    <tr style=\"text-align: right;\">\n",
       "      <th></th>\n",
       "      <th>SKU</th>\n",
       "      <th>name</th>\n",
       "      <th>description</th>\n",
       "      <th>warehouse_num</th>\n",
       "    </tr>\n",
       "  </thead>\n",
       "  <tbody>\n",
       "    <tr>\n",
       "      <th>0</th>\n",
       "      <td>121</td>\n",
       "      <td>'Apple'</td>\n",
       "      <td>'iphone 14 is available in our storage from ne...</td>\n",
       "      <td>101</td>\n",
       "    </tr>\n",
       "    <tr>\n",
       "      <th>1</th>\n",
       "      <td>122</td>\n",
       "      <td>'Samsung'</td>\n",
       "      <td>'Samsung laptop sales diminshed in our location'</td>\n",
       "      <td>102</td>\n",
       "    </tr>\n",
       "    <tr>\n",
       "      <th>2</th>\n",
       "      <td>123</td>\n",
       "      <td>'lg'</td>\n",
       "      <td>'refrigerator is the new product with AI techn...</td>\n",
       "      <td>103</td>\n",
       "    </tr>\n",
       "    <tr>\n",
       "      <th>3</th>\n",
       "      <td>124</td>\n",
       "      <td>'apple'</td>\n",
       "      <td>'apple laptop needed repairs'</td>\n",
       "      <td>101</td>\n",
       "    </tr>\n",
       "    <tr>\n",
       "      <th>4</th>\n",
       "      <td>125</td>\n",
       "      <td>'apple'</td>\n",
       "      <td>'iwatch is available under $500'</td>\n",
       "      <td>101</td>\n",
       "    </tr>\n",
       "    <tr>\n",
       "      <th>5</th>\n",
       "      <td>126</td>\n",
       "      <td>'samsung'</td>\n",
       "      <td>'Samsung galaxy s23 sales are peaked this year'</td>\n",
       "      <td>102</td>\n",
       "    </tr>\n",
       "    <tr>\n",
       "      <th>6</th>\n",
       "      <td>127</td>\n",
       "      <td>'lg'</td>\n",
       "      <td>'lg is going to stop selling phone. No lg phon...</td>\n",
       "      <td>103</td>\n",
       "    </tr>\n",
       "  </tbody>\n",
       "</table>\n",
       "</div>"
      ],
      "text/plain": [
       "   SKU       name                                        description  \\\n",
       "0  121    'Apple'  'iphone 14 is available in our storage from ne...   \n",
       "1  122  'Samsung'   'Samsung laptop sales diminshed in our location'   \n",
       "2  123       'lg'  'refrigerator is the new product with AI techn...   \n",
       "3  124    'apple'                      'apple laptop needed repairs'   \n",
       "4  125    'apple'                   'iwatch is available under $500'   \n",
       "5  126  'samsung'    'Samsung galaxy s23 sales are peaked this year'   \n",
       "6  127       'lg'  'lg is going to stop selling phone. No lg phon...   \n",
       "\n",
       "   warehouse_num  \n",
       "0            101  \n",
       "1            102  \n",
       "2            103  \n",
       "3            101  \n",
       "4            101  \n",
       "5            102  \n",
       "6            103  "
      ]
     },
     "execution_count": 44,
     "metadata": {},
     "output_type": "execute_result"
    }
   ],
   "source": [
    "df = pd.read_csv('dwh.csv')\n",
    "df"
   ]
  },
  {
   "cell_type": "code",
   "execution_count": 45,
   "metadata": {},
   "outputs": [
    {
     "name": "stdout",
     "output_type": "stream",
     "text": [
      "SKU = 121, name =0, description = 'iphone 14 is available in our storage from next week', warehouse_num = 101\n",
      "SKU = 122, name =1, description = 'Samsung laptop sales diminshed in our location', warehouse_num = 102\n",
      "SKU = 123, name =2, description = 'refrigerator is the new product with AI technology', warehouse_num = 103\n",
      "SKU = 124, name =3, description = 'apple laptop needed repairs', warehouse_num = 101\n",
      "SKU = 125, name =4, description = 'iwatch is available under $500', warehouse_num = 101\n",
      "SKU = 126, name =5, description = 'Samsung galaxy s23 sales are peaked this year', warehouse_num = 102\n",
      "SKU = 127, name =6, description = 'lg is going to stop selling phone. No lg phones in our storage from next quarter ', warehouse_num = 103\n"
     ]
    }
   ],
   "source": [
    "for index, row in df.iterrows():\n",
    "    print(f\"SKU = {row.SKU}, name ={row.name}, description = {row.description}, warehouse_num = {row.warehouse_num}\")"
   ]
  },
  {
   "cell_type": "code",
   "execution_count": 46,
   "metadata": {},
   "outputs": [
    {
     "name": "stdout",
     "output_type": "stream",
     "text": [
      "\n",
      "        INSERT INTO m14.datawarehouse (SKU, name, description, warehouse_num)     \n",
      "        VALUES (121, 'Apple', 'iphone 14 is available in our storage from next week', 101);\n",
      "        \n",
      "\n",
      "        INSERT INTO m14.datawarehouse (SKU, name, description, warehouse_num)     \n",
      "        VALUES (122, 'Samsung', 'Samsung laptop sales diminshed in our location', 102);\n",
      "        \n",
      "\n",
      "        INSERT INTO m14.datawarehouse (SKU, name, description, warehouse_num)     \n",
      "        VALUES (123, 'lg', 'refrigerator is the new product with AI technology', 103);\n",
      "        \n",
      "\n",
      "        INSERT INTO m14.datawarehouse (SKU, name, description, warehouse_num)     \n",
      "        VALUES (124, 'apple', 'apple laptop needed repairs', 101);\n",
      "        \n",
      "\n",
      "        INSERT INTO m14.datawarehouse (SKU, name, description, warehouse_num)     \n",
      "        VALUES (125, 'apple', 'iwatch is available under $500', 101);\n",
      "        \n",
      "\n",
      "        INSERT INTO m14.datawarehouse (SKU, name, description, warehouse_num)     \n",
      "        VALUES (126, 'samsung', 'Samsung galaxy s23 sales are peaked this year', 102);\n",
      "        \n",
      "\n",
      "        INSERT INTO m14.datawarehouse (SKU, name, description, warehouse_num)     \n",
      "        VALUES (127, 'lg', 'lg is going to stop selling phone. No lg phones in our storage from next quarter ', 103);\n",
      "        \n"
     ]
    }
   ],
   "source": [
    "for index, row in df.iterrows():\n",
    "    print(f\"\"\"\n",
    "        INSERT INTO m14.datawarehouse (SKU, name, description, warehouse_num)     \n",
    "        VALUES ({row[0]}, {row[1]}, {row[2]}, {row[3]});\n",
    "        \"\"\"\n",
    "       )\n",
    "    session.execute(f\"\"\"\n",
    "        INSERT INTO m14.datawarehouse (SKU, name, description, warehouse_num)     \n",
    "        VALUES ({row[0]}, {row[1]}, {row[2]}, {row[3]});\n",
    "        \"\"\"\n",
    "       )"
   ]
  },
  {
   "cell_type": "code",
   "execution_count": 47,
   "metadata": {},
   "outputs": [
    {
     "name": "stdout",
     "output_type": "stream",
     "text": [
      "SKU=123, name=lg, description=refrigerator is the new product with AI technology, warehouse_num=103\n",
      "SKU=125, name=apple, description=iwatch is available under $500, warehouse_num=101\n",
      "SKU=122, name=Samsung, description=Samsung laptop sales diminshed in our location, warehouse_num=102\n",
      "SKU=121, name=Apple, description=iphone 14 is available in our storage from next week, warehouse_num=101\n",
      "SKU=126, name=samsung, description=Samsung galaxy s23 sales are peaked this year, warehouse_num=102\n",
      "SKU=127, name=lg, description=lg is going to stop selling phone. No lg phones in our storage from next quarter , warehouse_num=103\n",
      "SKU=124, name=apple, description=apple laptop needed repairs, warehouse_num=101\n"
     ]
    }
   ],
   "source": [
    "rows = session.execute(\"select (SKU, name, description, warehouse_num) from m14.datawarehouse\")\n",
    "for row in rows:\n",
    "    print(f\"SKU={row[0][0]}, name={row[0][1]}, description={row[0][2]}, warehouse_num={row[0][3]}\")"
   ]
  },
  {
   "cell_type": "markdown",
   "metadata": {},
   "source": [
    "Creating an index on warehouse_num"
   ]
  },
  {
   "cell_type": "code",
   "execution_count": 48,
   "metadata": {},
   "outputs": [
    {
     "data": {
      "text/plain": [
       "<cassandra.cluster.ResultSet at 0x7fdce83c5190>"
      ]
     },
     "execution_count": 48,
     "metadata": {},
     "output_type": "execute_result"
    }
   ],
   "source": [
    "session.execute(\"\"\"\n",
    "                CREATE INDEX IF NOT EXISTS ON m14.datawarehouse(warehouse_num);\"\"\")"
   ]
  },
  {
   "cell_type": "markdown",
   "metadata": {},
   "source": [
    "Search for all products located at a given location "
   ]
  },
  {
   "cell_type": "code",
   "execution_count": 49,
   "metadata": {},
   "outputs": [
    {
     "name": "stdout",
     "output_type": "stream",
     "text": [
      "SKU=122, name=Samsung, description=Samsung laptop sales diminshed in our location, warehouse_num=102\n",
      "SKU=126, name=samsung, description=Samsung galaxy s23 sales are peaked this year, warehouse_num=102\n"
     ]
    }
   ],
   "source": [
    "\n",
    "rows = session.execute(\"select (SKU, name, description, warehouse_num) from m14.datawarehouse where warehouse_num=102\")\n",
    "for row in rows:\n",
    "    print(f\"SKU={row[0][0]}, name={row[0][1]}, description={row[0][2]}, warehouse_num={row[0][3]}\")\n"
   ]
  }
 ],
 "metadata": {
  "kernelspec": {
   "display_name": "Python 3",
   "language": "python",
   "name": "python3"
  },
  "language_info": {
   "codemirror_mode": {
    "name": "ipython",
    "version": 3
   },
   "file_extension": ".py",
   "mimetype": "text/x-python",
   "name": "python",
   "nbconvert_exporter": "python",
   "pygments_lexer": "ipython3",
   "version": "3.11.5"
  },
  "orig_nbformat": 4
 },
 "nbformat": 4,
 "nbformat_minor": 2
}
